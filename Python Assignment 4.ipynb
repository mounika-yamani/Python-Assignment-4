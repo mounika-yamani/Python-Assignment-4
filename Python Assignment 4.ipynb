{
 "cells": [
  {
   "cell_type": "code",
   "execution_count": 1,
   "metadata": {},
   "outputs": [
    {
     "name": "stdout",
     "output_type": "stream",
     "text": [
      "a = 5\n",
      "b =6\n",
      "c =2\n",
      "area = 1593.7879407248633\n"
     ]
    }
   ],
   "source": [
    "#Question no.1.1\n",
    "class sides:\n",
    "    def __init__(self,a,b,c):\n",
    "        self.a = a\n",
    "        self.b = b\n",
    "        self.c = c\n",
    "a = int(input(\"a = \"))\n",
    "b = int(input(\"b =\"))\n",
    "c = int(input(\"c =\"))\n",
    "class triangle(sides):\n",
    "    def area(self):\n",
    "        s = a+b+c/2\n",
    "        area = s*(s-a)*(s-b)*(s-c)**0.5\n",
    "        return area\n",
    "t = triangle(a,b,c)\n",
    "print(\"area = {}\".format(t.area()))\n",
    "        \n",
    "    "
   ]
  },
  {
   "cell_type": "code",
   "execution_count": 2,
   "metadata": {},
   "outputs": [
    {
     "data": {
      "text/plain": [
       "['elephant', 'mammal']"
      ]
     },
     "execution_count": 2,
     "metadata": {},
     "output_type": "execute_result"
    }
   ],
   "source": [
    "#Question no. 1.2\n",
    "def filter_long_words(l,n):\n",
    "    words = []\n",
    "    for i in range(len(l)):\n",
    "        if len(l[i])> n:\n",
    "            words.append(l[i])\n",
    "    return words\n",
    "l = ['efgh', 'rodge','elephant','mammal']\n",
    "n = 5\n",
    "filter_long_words(l,n)\n",
    "    \n",
    "   \n",
    "\n",
    "   "
   ]
  },
  {
   "cell_type": "code",
   "execution_count": 3,
   "metadata": {},
   "outputs": [
    {
     "data": {
      "text/plain": [
       "[2, 3, 4]"
      ]
     },
     "execution_count": 3,
     "metadata": {},
     "output_type": "execute_result"
    }
   ],
   "source": [
    "#Question no.2.1\n",
    "def list_into_intgers(list):\n",
    "    list_1 = []\n",
    "    for i in range(len(list)):\n",
    "        list_1.append(len(list[i]))\n",
    "    return list_1\n",
    "list = ['ab','cde','erty']\n",
    "list_into_intgers(list)\n",
    "        \n",
    "        "
   ]
  },
  {
   "cell_type": "code",
   "execution_count": 4,
   "metadata": {},
   "outputs": [
    {
     "name": "stdout",
     "output_type": "stream",
     "text": [
      "j\n"
     ]
    },
    {
     "data": {
      "text/plain": [
       "False"
      ]
     },
     "execution_count": 4,
     "metadata": {},
     "output_type": "execute_result"
    }
   ],
   "source": [
    "#Quesion no.2.2\n",
    "def character(Alphabet):\n",
    "    vowel = ['a','e','i','o','u']\n",
    "    for i in range(len(vowel)):\n",
    "        if Alphabet == vowel[i]:\n",
    "            return True\n",
    "        else:\n",
    "            return False\n",
    "Alphabet = input()\n",
    "character(Alphabet)\n",
    "    \n",
    "    "
   ]
  }
 ],
 "metadata": {
  "kernelspec": {
   "display_name": "Python 3",
   "language": "python",
   "name": "python3"
  },
  "language_info": {
   "codemirror_mode": {
    "name": "ipython",
    "version": 3
   },
   "file_extension": ".py",
   "mimetype": "text/x-python",
   "name": "python",
   "nbconvert_exporter": "python",
   "pygments_lexer": "ipython3",
   "version": "3.8.5"
  }
 },
 "nbformat": 4,
 "nbformat_minor": 4
}
